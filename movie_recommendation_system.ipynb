{
  "nbformat": 4,
  "nbformat_minor": 0,
  "metadata": {
    "colab": {
      "provenance": [],
      "authorship_tag": "ABX9TyNpcWvxoipUPoSF35GPLQRs"
    },
    "kernelspec": {
      "name": "python3",
      "display_name": "Python 3"
    },
    "language_info": {
      "name": "python"
    }
  },
  "cells": [
    {
      "cell_type": "code",
      "execution_count": 21,
      "metadata": {
        "id": "ZAr1rzGjCnCC"
      },
      "outputs": [],
      "source": [
        "import pandas as pd\n",
        "import numpy as np\n",
        "from sklearn.feature_extraction.text import CountVectorizer\n",
        "from sklearn.metrics.pairwise import cosine_similarity\n",
        "\n",
        "def get_title_from_index(index):\n",
        "\treturn df[df.index == index][\"title\"].values[0]\n",
        "\n",
        "def get_index_from_title(title):\n",
        "\treturn df[df.title == title][\"index\"].values[0]"
      ]
    },
    {
      "cell_type": "code",
      "source": [
        "repo_name = 'movie_recommedation_system'\n",
        "repo_url = f'https://github.com/daivik05/movie_recommedation_system'\n",
        "!git clone https://github.com/daivik05/movie_recommedation_system"
      ],
      "metadata": {
        "colab": {
          "base_uri": "https://localhost:8080/"
        },
        "id": "SfImLpRYEnsA",
        "outputId": "c32f87df-b71d-4054-f060-3fdf1bc27108"
      },
      "execution_count": 22,
      "outputs": [
        {
          "output_type": "stream",
          "name": "stdout",
          "text": [
            "Cloning into 'movie_recommedation_system'...\n",
            "remote: Enumerating objects: 6, done.\u001b[K\n",
            "remote: Counting objects: 100% (6/6), done.\u001b[K\n",
            "remote: Compressing objects: 100% (4/4), done.\u001b[K\n",
            "remote: Total 6 (delta 0), reused 0 (delta 0), pack-reused 0\u001b[K\n",
            "Receiving objects: 100% (6/6), 5.04 MiB | 20.83 MiB/s, done.\n"
          ]
        }
      ]
    },
    {
      "cell_type": "code",
      "source": [
        "project_dir = f'/content/{repo_name}'\n",
        "%cd $project_dir"
      ],
      "metadata": {
        "id": "0F2klCs8HOiO",
        "colab": {
          "base_uri": "https://localhost:8080/"
        },
        "outputId": "7656ec3f-ea14-4be4-bc37-72d70d33fea6"
      },
      "execution_count": 23,
      "outputs": [
        {
          "output_type": "stream",
          "name": "stdout",
          "text": [
            "/content/movie_recommedation_system\n"
          ]
        }
      ]
    },
    {
      "cell_type": "code",
      "source": [
        "df = pd.read_csv(\"movie_dataset.csv\")"
      ],
      "metadata": {
        "id": "A2mQqCbwGSnQ"
      },
      "execution_count": 24,
      "outputs": []
    },
    {
      "cell_type": "code",
      "source": [
        "features = ['keywords','cast','genres','director']\n",
        
        "for feature in features:\n",
        "\tdf[feature] = df[feature].fillna('')\n",
        "\n",
        "def combine_features(row):\n",
        "    try:\n",
        "        return row['keywords'] +\" \"+row['cast']+\" \"+row[\"genres\"]+\" \"+row[\"director\"]\n",
        "    except:\n",
        "        print(\"Error:\", row)\n",
        "\n",
        "df[\"combined_features\"] = df.apply(combine_features, axis=1)\n"
      ],
      "metadata": {
        "id": "hZCF_fYqGbdu"
      },
      "execution_count": 25,
      "outputs": []
    },
    {
      "cell_type": "code",
      "source": [
        "cv = CountVectorizer()\n",
        "\n",
        "count_matrix = cv.fit_transform(df[\"combined_features\"])\n",
        "\n",
        "cosine_sim = cosine_similarity(count_matrix)\n",
        "movie_user_likes = \"Alien\""
      ],
      "metadata": {
        "id": "eyV0veZbIUqP"
      },
      "execution_count": 26,
      "outputs": []
    },
    {
      "cell_type": "code",
      "source": [
        "movie_index = get_index_from_title(movie_user_likes)\n",
        "\n",
        "similar_movies =  list(enumerate(cosine_sim[movie_index]))\n",
        "\n",
        
        "sorted_similar_movies = sorted(similar_movies,key=lambda x:x[1],reverse=True)\n"
      ],
      "metadata": {
        "id": "w4E202j7Ib9I"
      },
      "execution_count": 27,
      "outputs": []
    },
    {
      "cell_type": "code",
      "source": [
        "i = 0\n",
        "for element in sorted_similar_movies:\n",
        "\t\tprint(get_title_from_index(element[0]))\n",
        "\t\ti = i + 1\n",
        "\t\tif i > 50:\n",
        "\t\t\tbreak\n",
        "\t\t\tbreak"
      ],
      "metadata": {
        "colab": {
          "base_uri": "https://localhost:8080/"
        },
        "id": "dIcfG9jFIfdK",
        "outputId": "21fde01b-035b-445d-ed45-c8650ca85b19"
      },
      "execution_count": 28,
      "outputs": [
        {
          "output_type": "stream",
          "name": "stdout",
          "text": [
            "Alien\n",
            "Aliens\n",
            "Alien³\n",
            "Moonraker\n",
            "Planet of the Apes\n",
            "Avatar\n",
            "Gravity\n",
            "Jason X\n",
            "The Helix... Loaded\n",
            "Alien: Resurrection\n",
            "The Thing\n",
            "Galaxy Quest\n",
            "Alien Zone\n",
            "Lifeforce\n",
            "Guardians of the Galaxy\n",
            "Spaceballs\n",
            "Silent Running\n",
            "Starship Troopers\n",
            "The Astronaut's Wife\n",
            "Soldier\n",
            "Cargo\n",
            "Wing Commander\n",
            "Elysium\n",
            "Event Horizon\n",
            "Oblivion\n",
            "Sunshine\n",
            "The Dead Zone\n",
            "Repo Man\n",
            "Titan A.E.\n",
            "AVP: Alien vs. Predator\n",
            "The Empire Strikes Back\n",
            "Rise of the Planet of the Apes\n",
            "Red Planet\n",
            "Aliens vs Predator: Requiem\n",
            "Lockout\n",
            "The Last Days on Mars\n",
            "Twilight Zone: The Movie\n",
            "They Live\n",
            "John Carter\n",
            "The Black Hole\n",
            "The Ice Pirates\n",
            "Star Wars: Clone Wars: Volume 1\n",
            "Contact\n",
            "Priest\n",
            "Blade Runner\n",
            "RoboCop 3\n",
            "Men in Black\n",
            "Hav Plenty\n",
            "Space Dogs\n",
            "Star Trek: Insurrection\n",
            "Impostor\n"
          ]
        }
      ]
    }
  ]
}
